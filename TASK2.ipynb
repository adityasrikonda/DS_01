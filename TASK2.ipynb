{
  "nbformat": 4,
  "nbformat_minor": 0,
  "metadata": {
    "colab": {
      "provenance": [],
      "mount_file_id": "1Nq-aCavjqm7qvXJBI5eoi0S5hVybBJtO",
      "authorship_tag": "ABX9TyMVYrCAT8IKYpvY8Zn2y2Et",
      "include_colab_link": true
    },
    "kernelspec": {
      "name": "python3",
      "display_name": "Python 3"
    },
    "language_info": {
      "name": "python"
    }
  },
  "cells": [
    {
      "cell_type": "markdown",
      "metadata": {
        "id": "view-in-github",
        "colab_type": "text"
      },
      "source": [
        "<a href=\"https://colab.research.google.com/github/adityasrikonda/DS_01/blob/main/TASK2.ipynb\" target=\"_parent\"><img src=\"https://colab.research.google.com/assets/colab-badge.svg\" alt=\"Open In Colab\"/></a>"
      ]
    },
    {
      "cell_type": "code",
      "execution_count": null,
      "metadata": {
        "id": "yeBLX3HeztsL"
      },
      "outputs": [],
      "source": []
    },
    {
      "cell_type": "code",
      "source": [
        "# Import necessary libraries\n",
        "import os  # Provides functions for interacting with the operating system (e.g., file paths)\n",
        "import pandas as pd  # Used for data manipulation and analysis with DataFrames\n",
        "import numpy as np  # Provides numerical computing tools, including arrays and mathematical functions\n",
        "import matplotlib.pyplot as plt  # Used for creating visualizations (plots, charts)\n",
        "import seaborn as sns  # Built on top of matplotlib, provides a higher-level interface for statistical graphics\n",
        "from sklearn.model_selection import train_test_split  # Splits data into training and testing sets\n",
        "from sklearn.preprocessing import StandardScaler, LabelEncoder  # Used for data preprocessing (scaling, encoding)\n",
        "from sklearn.ensemble import RandomForestClassifier  # Implements the Random Forest classification algorithm\n",
        "from sklearn.metrics import classification_report, confusion_matrix  # Used to evaluate model performance\n",
        "from sklearn.linear_model import LogisticRegression  # Implements the Logistic Regression classification algorithm\n",
        "from sklearn.tree import DecisionTreeClassifier  # Implements the Decision Tree classification algorithm\n",
        "from sklearn.svm import SVC  # Implements the Support Vector Machine classification algorithm\n",
        "from sklearn.neighbors import KNeighborsClassifier  # Implements the K-Nearest Neighbors classification algorithm\n",
        "# Import necessary libraries\n",
        "import os  # Provides functions for interacting with the operating system (e.g., file paths)\n",
        "import pandas as pd  # Used for data manipulation and analysis with DataFrames\n",
        "import numpy as np  # Provides numerical computing tools, including arrays and mathematical functions\n",
        "import matplotlib.pyplot as plt  # Used for creating visualizations (plots, charts)\n",
        "import seaborn as sns  # Built on top of matplotlib, provides a higher-level interface for statistical graphics\n",
        "from sklearn.model_selection import train_test_split  # Splits data into training and testing sets\n",
        "from sklearn.preprocessing import StandardScaler, LabelEncoder  # Used for data preprocessing (scaling, encoding)\n",
        "from sklearn.ensemble import RandomForestClassifier  # Implements the Random Forest classification algorithm\n",
        "from sklearn.metrics import classification_report, confusion_matrix  # Used to evaluate model performance\n",
        "from sklearn.linear_model import LogisticRegression  # Implements the Logistic Regression classification algorithm\n",
        "from sklearn.tree import DecisionTreeClassifier  # Implements the Decision Tree classification algorithm\n",
        "from sklearn.svm import SVC  # Implements the Support Vector Machine classification algorithm\n",
        "from sklearn.neighbors import KNeighborsClassifier  # Implements the K-Nearest Neighbors classification algorithm\n"
      ],
      "metadata": {
        "id": "g7k7Pe8OUp--"
      },
      "execution_count": null,
      "outputs": []
    },
    {
      "cell_type": "code",
      "source": [
        "\n"
      ],
      "metadata": {
        "id": "wte-v5bBU8EI"
      },
      "execution_count": null,
      "outputs": []
    },
    {
      "cell_type": "code",
      "source": [],
      "metadata": {
        "id": "_a4LMozu0G-3"
      },
      "execution_count": null,
      "outputs": []
    },
    {
      "cell_type": "code",
      "source": [
        "from google.colab import drive\n",
        "drive.mount('/content/drive')"
      ],
      "metadata": {
        "colab": {
          "base_uri": "https://localhost:8080/"
        },
        "id": "z9xl8PSh0bUy",
        "outputId": "015d9696-3880-400b-e700-1cbe12c2569e"
      },
      "execution_count": null,
      "outputs": [
        {
          "output_type": "stream",
          "name": "stdout",
          "text": [
            "Drive already mounted at /content/drive; to attempt to forcibly remount, call drive.mount(\"/content/drive\", force_remount=True).\n"
          ]
        }
      ]
    },
    {
      "cell_type": "markdown",
      "source": [],
      "metadata": {
        "id": "UBWwPuiiZrzO"
      }
    }
  ]
}